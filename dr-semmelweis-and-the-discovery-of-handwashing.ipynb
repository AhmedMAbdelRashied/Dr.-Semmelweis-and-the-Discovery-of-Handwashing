{
 "cells": [
  {
   "cell_type": "code",
   "execution_count": 1,
   "id": "c6da0684",
   "metadata": {
    "_cell_guid": "b1076dfc-b9ad-4769-8c92-a6c4dae69d19",
    "_uuid": "8f2839f25d086af736a60e9eeb907d3b93b6e0e5",
    "execution": {
     "iopub.execute_input": "2022-09-07T12:00:21.736831Z",
     "iopub.status.busy": "2022-09-07T12:00:21.736392Z",
     "iopub.status.idle": "2022-09-07T12:00:21.755375Z",
     "shell.execute_reply": "2022-09-07T12:00:21.754157Z"
    },
    "papermill": {
     "duration": 0.031357,
     "end_time": "2022-09-07T12:00:21.758502",
     "exception": false,
     "start_time": "2022-09-07T12:00:21.727145",
     "status": "completed"
    },
    "tags": []
   },
   "outputs": [
    {
     "name": "stdout",
     "output_type": "stream",
     "text": [
      "/kaggle/input/discovery-handwashing/monthly_deaths.csv\n",
      "/kaggle/input/discovery-handwashing/ignaz_semmelweis_1860.jpeg\n",
      "/kaggle/input/discovery-handwashing/yearly_deaths_by_clinic.csv\n",
      "/kaggle/input/discovery-handwashing/project_image.png\n"
     ]
    }
   ],
   "source": [
    "# This Python 3 environment comes with many helpful analytics libraries installed\n",
    "# It is defined by the kaggle/python Docker image: https://github.com/kaggle/docker-python\n",
    "# For example, here's several helpful packages to load\n",
    "\n",
    "import numpy as np # linear algebra\n",
    "import pandas as pd # data processing, CSV file I/O (e.g. pd.read_csv)\n",
    "\n",
    "# Input data files are available in the read-only \"../input/\" directory\n",
    "# For example, running this (by clicking run or pressing Shift+Enter) will list all files under the input directory\n",
    "\n",
    "import os\n",
    "for dirname, _, filenames in os.walk('/kaggle/input'):\n",
    "    for filename in filenames:\n",
    "        print(os.path.join(dirname, filename))\n",
    "\n",
    "# You can write up to 20GB to the current directory (/kaggle/working/) that gets preserved as output when you create a version using \"Save & Run All\" \n",
    "# You can also write temporary files to /kaggle/temp/, but they won't be saved outside of the current session"
   ]
  },
  {
   "cell_type": "markdown",
   "id": "81ed9441",
   "metadata": {
    "papermill": {
     "duration": 0.004992,
     "end_time": "2022-09-07T12:00:21.769662",
     "exception": false,
     "start_time": "2022-09-07T12:00:21.764670",
     "status": "completed"
    },
    "tags": []
   },
   "source": [
    "## 1. Meet Dr. Ignaz Semmelweis\n",
    "<p><img style=\"float: left;margin:5px 20px 5px 1px\" src=\"https://assets.datacamp.com/production/project_20/img/ignaz_semmelweis_1860.jpeg\"></p>\n",
    "<!--\n",
    "<img style=\"float: left;margin:5px 20px 5px 1px\" src=\"https://assets.datacamp.com/production/project_20/datasets/ignaz_semmelweis_1860.jpeg\">\n",
    "-->\n",
    "<p>This is Dr. Ignaz Semmelweis, a Hungarian physician born in 1818 and active at the Vienna General Hospital. If Dr. Semmelweis looks troubled it's probably because he's thinking about <em>childbed fever</em>: A deadly disease affecting women that just have given birth. He is thinking about it because in the early 1840s at the Vienna General Hospital as many as 10% of the women giving birth die from it. He is thinking about it because he knows the cause of childbed fever: It's the contaminated hands of the doctors delivering the babies. And they won't listen to him and <em>wash their hands</em>!</p>\n",
    "<p>In this notebook, we're going to reanalyze the data that made Semmelweis discover the importance of <em>handwashing</em>. Let's start by looking at the data that made Semmelweis realize that something was wrong with the procedures at Vienna General Hospital.</p>"
   ]
  },
  {
   "cell_type": "code",
   "execution_count": 2,
   "id": "86b3c845",
   "metadata": {
    "execution": {
     "iopub.execute_input": "2022-09-07T12:00:21.782053Z",
     "iopub.status.busy": "2022-09-07T12:00:21.781312Z",
     "iopub.status.idle": "2022-09-07T12:00:21.805038Z",
     "shell.execute_reply": "2022-09-07T12:00:21.803298Z"
    },
    "papermill": {
     "duration": 0.032638,
     "end_time": "2022-09-07T12:00:21.807528",
     "exception": false,
     "start_time": "2022-09-07T12:00:21.774890",
     "status": "completed"
    },
    "tags": []
   },
   "outputs": [
    {
     "name": "stdout",
     "output_type": "stream",
     "text": [
      "    year  births  deaths    clinic\n",
      "0   1841    3036     237  clinic 1\n",
      "1   1842    3287     518  clinic 1\n",
      "2   1843    3060     274  clinic 1\n",
      "3   1844    3157     260  clinic 1\n",
      "4   1845    3492     241  clinic 1\n",
      "5   1846    4010     459  clinic 1\n",
      "6   1841    2442      86  clinic 2\n",
      "7   1842    2659     202  clinic 2\n",
      "8   1843    2739     164  clinic 2\n",
      "9   1844    2956      68  clinic 2\n",
      "10  1845    3241      66  clinic 2\n",
      "11  1846    3754     105  clinic 2\n"
     ]
    }
   ],
   "source": [
    "# Importing modules\n",
    "import pandas as pd\n",
    "# Read datasets/yearly_deaths_by_clinic.csv into yearly\n",
    "yearly = pd.read_csv('../input/discovery-handwashing/yearly_deaths_by_clinic.csv')\n",
    "# Print out yearly\n",
    "print( yearly)"
   ]
  },
  {
   "cell_type": "markdown",
   "id": "7eacb2f5",
   "metadata": {
    "papermill": {
     "duration": 0.005683,
     "end_time": "2022-09-07T12:00:21.819034",
     "exception": false,
     "start_time": "2022-09-07T12:00:21.813351",
     "status": "completed"
    },
    "tags": []
   },
   "source": [
    "## 2. The alarming number of deaths\n"
   ]
  },
  {
   "cell_type": "code",
   "execution_count": 3,
   "id": "fc96aef9",
   "metadata": {
    "execution": {
     "iopub.execute_input": "2022-09-07T12:00:21.832442Z",
     "iopub.status.busy": "2022-09-07T12:00:21.831666Z",
     "iopub.status.idle": "2022-09-07T12:00:21.858518Z",
     "shell.execute_reply": "2022-09-07T12:00:21.857614Z"
    },
    "papermill": {
     "duration": 0.036162,
     "end_time": "2022-09-07T12:00:21.860802",
     "exception": false,
     "start_time": "2022-09-07T12:00:21.824640",
     "status": "completed"
    },
    "tags": []
   },
   "outputs": [
    {
     "data": {
      "text/html": [
       "<div>\n",
       "<style scoped>\n",
       "    .dataframe tbody tr th:only-of-type {\n",
       "        vertical-align: middle;\n",
       "    }\n",
       "\n",
       "    .dataframe tbody tr th {\n",
       "        vertical-align: top;\n",
       "    }\n",
       "\n",
       "    .dataframe thead th {\n",
       "        text-align: right;\n",
       "    }\n",
       "</style>\n",
       "<table border=\"1\" class=\"dataframe\">\n",
       "  <thead>\n",
       "    <tr style=\"text-align: right;\">\n",
       "      <th></th>\n",
       "      <th>year</th>\n",
       "      <th>births</th>\n",
       "      <th>deaths</th>\n",
       "      <th>clinic</th>\n",
       "      <th>proportion_deaths</th>\n",
       "    </tr>\n",
       "  </thead>\n",
       "  <tbody>\n",
       "    <tr>\n",
       "      <th>0</th>\n",
       "      <td>1841</td>\n",
       "      <td>3036</td>\n",
       "      <td>237</td>\n",
       "      <td>clinic 1</td>\n",
       "      <td>0.078063</td>\n",
       "    </tr>\n",
       "    <tr>\n",
       "      <th>1</th>\n",
       "      <td>1842</td>\n",
       "      <td>3287</td>\n",
       "      <td>518</td>\n",
       "      <td>clinic 1</td>\n",
       "      <td>0.157591</td>\n",
       "    </tr>\n",
       "    <tr>\n",
       "      <th>2</th>\n",
       "      <td>1843</td>\n",
       "      <td>3060</td>\n",
       "      <td>274</td>\n",
       "      <td>clinic 1</td>\n",
       "      <td>0.089542</td>\n",
       "    </tr>\n",
       "    <tr>\n",
       "      <th>3</th>\n",
       "      <td>1844</td>\n",
       "      <td>3157</td>\n",
       "      <td>260</td>\n",
       "      <td>clinic 1</td>\n",
       "      <td>0.082357</td>\n",
       "    </tr>\n",
       "    <tr>\n",
       "      <th>4</th>\n",
       "      <td>1845</td>\n",
       "      <td>3492</td>\n",
       "      <td>241</td>\n",
       "      <td>clinic 1</td>\n",
       "      <td>0.069015</td>\n",
       "    </tr>\n",
       "    <tr>\n",
       "      <th>5</th>\n",
       "      <td>1846</td>\n",
       "      <td>4010</td>\n",
       "      <td>459</td>\n",
       "      <td>clinic 1</td>\n",
       "      <td>0.114464</td>\n",
       "    </tr>\n",
       "  </tbody>\n",
       "</table>\n",
       "</div>"
      ],
      "text/plain": [
       "   year  births  deaths    clinic  proportion_deaths\n",
       "0  1841    3036     237  clinic 1           0.078063\n",
       "1  1842    3287     518  clinic 1           0.157591\n",
       "2  1843    3060     274  clinic 1           0.089542\n",
       "3  1844    3157     260  clinic 1           0.082357\n",
       "4  1845    3492     241  clinic 1           0.069015\n",
       "5  1846    4010     459  clinic 1           0.114464"
      ]
     },
     "execution_count": 3,
     "metadata": {},
     "output_type": "execute_result"
    }
   ],
   "source": [
    "yearly[\"proportion_deaths\"] = yearly[\"deaths\"] / yearly[\"births\"]\n",
    "# Extract Clinic 1 data into clinic_1 and Clinic 2 data into clinic_2\n",
    "clinic_1 = yearly[yearly[\"clinic\"] == \"clinic 1\"]\n",
    "clinic_2 = yearly[yearly[\"clinic\"] == \"clinic 2\"]\n",
    "\n",
    "# Print out clinic_1\n",
    "clinic_1"
   ]
  },
  {
   "cell_type": "markdown",
   "id": "a54cf00c",
   "metadata": {
    "papermill": {
     "duration": 0.005257,
     "end_time": "2022-09-07T12:00:21.872343",
     "exception": false,
     "start_time": "2022-09-07T12:00:21.867086",
     "status": "completed"
    },
    "tags": []
   },
   "source": [
    "## 3. Death at the clinics\n"
   ]
  },
  {
   "cell_type": "code",
   "execution_count": 4,
   "id": "7b4f8ddd",
   "metadata": {
    "execution": {
     "iopub.execute_input": "2022-09-07T12:00:21.885614Z",
     "iopub.status.busy": "2022-09-07T12:00:21.885186Z",
     "iopub.status.idle": "2022-09-07T12:00:23.652663Z",
     "shell.execute_reply": "2022-09-07T12:00:23.651150Z"
    },
    "papermill": {
     "duration": 1.777245,
     "end_time": "2022-09-07T12:00:23.655247",
     "exception": false,
     "start_time": "2022-09-07T12:00:21.878002",
     "status": "completed"
    },
    "tags": []
   },
   "outputs": [
    {
     "data": {
      "text/plain": [
       "<seaborn.axisgrid.FacetGrid at 0x7f4534509b90>"
      ]
     },
     "execution_count": 4,
     "metadata": {},
     "output_type": "execute_result"
    },
    {
     "data": {
      "image/png": "[encoded data removed]",
      "text/plain": [
       "<Figure size 431.5x360 with 1 Axes>"
      ]
     },
     "metadata": {
      "needs_background": "light"
     },
     "output_type": "display_data"
    }
   ],
   "source": [
    "# Import matplotlib\n",
    "import matplotlib.pyplot as plt\n",
    "import seaborn as sns\n",
    "# This makes plots appear in the notebook\n",
    "%matplotlib inline\n",
    "sns.relplot(x=\"year\",\n",
    "            y='proportion_deaths',\n",
    "            data=yearly,\n",
    "            style='clinic',\n",
    "           kind='line')\n",
    "# Plot yearly proportion of deaths at the two clinics\n",
    "#ax = clinic_1.plot(x=\"year\", y=\"proportion_deaths\", label=\"Clinic 1\")\n",
    "#clinic_2.plot(x=\"year\", y=\"proportion_deaths\", label=\"Clinic 2\", ax=ax, ylabel=\"Proportion deaths\")"
   ]
  },
  {
   "cell_type": "markdown",
   "id": "0365a17f",
   "metadata": {
    "papermill": {
     "duration": 0.005925,
     "end_time": "2022-09-07T12:00:23.667582",
     "exception": false,
     "start_time": "2022-09-07T12:00:23.661657",
     "status": "completed"
    },
    "tags": []
   },
   "source": [
    "## 4. The handwashing begins\n",
    "<p>Why is the proportion of deaths consistently so much higher in Clinic 1? Semmelweis saw the same pattern and was puzzled and distressed. The only difference between the clinics was that many medical students served at Clinic 1, while mostly midwife students served at Clinic 2. While the midwives only tended to the women giving birth, the medical students also spent time in the autopsy rooms examining corpses. </p>\n",
    "<p>Semmelweis started to suspect that something on the corpses spread from the hands of the medical students, caused childbed fever. So in a desperate attempt to stop the high mortality rates, he decreed: <em>Wash your hands!</em> This was an unorthodox and controversial request, nobody in Vienna knew about bacteria at this point in time. </p>\n",
    "<p>Let's load in monthly data from Clinic 1 to see if the handwashing had any effect.</p>"
   ]
  },
  {
   "cell_type": "code",
   "execution_count": 5,
   "id": "0c521e66",
   "metadata": {
    "execution": {
     "iopub.execute_input": "2022-09-07T12:00:23.683262Z",
     "iopub.status.busy": "2022-09-07T12:00:23.681820Z",
     "iopub.status.idle": "2022-09-07T12:00:23.709918Z",
     "shell.execute_reply": "2022-09-07T12:00:23.708491Z"
    },
    "papermill": {
     "duration": 0.038972,
     "end_time": "2022-09-07T12:00:23.712729",
     "exception": false,
     "start_time": "2022-09-07T12:00:23.673757",
     "status": "completed"
    },
    "tags": []
   },
   "outputs": [
    {
     "data": {
      "text/html": [
       "<div>\n",
       "<style scoped>\n",
       "    .dataframe tbody tr th:only-of-type {\n",
       "        vertical-align: middle;\n",
       "    }\n",
       "\n",
       "    .dataframe tbody tr th {\n",
       "        vertical-align: top;\n",
       "    }\n",
       "\n",
       "    .dataframe thead th {\n",
       "        text-align: right;\n",
       "    }\n",
       "</style>\n",
       "<table border=\"1\" class=\"dataframe\">\n",
       "  <thead>\n",
       "    <tr style=\"text-align: right;\">\n",
       "      <th></th>\n",
       "      <th>date</th>\n",
       "      <th>births</th>\n",
       "      <th>deaths</th>\n",
       "      <th>proportion_deaths</th>\n",
       "    </tr>\n",
       "  </thead>\n",
       "  <tbody>\n",
       "    <tr>\n",
       "      <th>0</th>\n",
       "      <td>1841-01-01</td>\n",
       "      <td>254</td>\n",
       "      <td>37</td>\n",
       "      <td>0.145669</td>\n",
       "    </tr>\n",
       "    <tr>\n",
       "      <th>1</th>\n",
       "      <td>1841-02-01</td>\n",
       "      <td>239</td>\n",
       "      <td>18</td>\n",
       "      <td>0.075314</td>\n",
       "    </tr>\n",
       "    <tr>\n",
       "      <th>2</th>\n",
       "      <td>1841-03-01</td>\n",
       "      <td>277</td>\n",
       "      <td>12</td>\n",
       "      <td>0.043321</td>\n",
       "    </tr>\n",
       "    <tr>\n",
       "      <th>3</th>\n",
       "      <td>1841-04-01</td>\n",
       "      <td>255</td>\n",
       "      <td>4</td>\n",
       "      <td>0.015686</td>\n",
       "    </tr>\n",
       "    <tr>\n",
       "      <th>4</th>\n",
       "      <td>1841-05-01</td>\n",
       "      <td>255</td>\n",
       "      <td>2</td>\n",
       "      <td>0.007843</td>\n",
       "    </tr>\n",
       "  </tbody>\n",
       "</table>\n",
       "</div>"
      ],
      "text/plain": [
       "        date  births  deaths  proportion_deaths\n",
       "0 1841-01-01     254      37           0.145669\n",
       "1 1841-02-01     239      18           0.075314\n",
       "2 1841-03-01     277      12           0.043321\n",
       "3 1841-04-01     255       4           0.015686\n",
       "4 1841-05-01     255       2           0.007843"
      ]
     },
     "execution_count": 5,
     "metadata": {},
     "output_type": "execute_result"
    }
   ],
   "source": [
    "# Read datasets/monthly_deaths.csv into monthly\n",
    "monthly = pd.read_csv('../input/discovery-handwashing/monthly_deaths.csv', parse_dates=[\"date\"])\n",
    "\n",
    "# Calculate proportion of deaths per no. births\n",
    "monthly[\"proportion_deaths\"] = monthly[\"deaths\"] / monthly[\"births\"]\n",
    "\n",
    "# Print out the first rows in monthly\n",
    "monthly.head()"
   ]
  },
  {
   "cell_type": "markdown",
   "id": "fef9bf20",
   "metadata": {
    "papermill": {
     "duration": 0.00615,
     "end_time": "2022-09-07T12:00:23.725586",
     "exception": false,
     "start_time": "2022-09-07T12:00:23.719436",
     "status": "completed"
    },
    "tags": []
   },
   "source": [
    "## 5. The effect of handwashing\n",
    "<p>With the data loaded we can now look at the proportion of deaths over time. In the plot below we haven't marked where obligatory handwashing started, but it reduced the proportion of deaths to such a degree that you should be able to spot it!</p>"
   ]
  },
  {
   "cell_type": "code",
   "execution_count": 6,
   "id": "19ca04ed",
   "metadata": {
    "execution": {
     "iopub.execute_input": "2022-09-07T12:00:23.740903Z",
     "iopub.status.busy": "2022-09-07T12:00:23.739643Z",
     "iopub.status.idle": "2022-09-07T12:00:24.078809Z",
     "shell.execute_reply": "2022-09-07T12:00:24.077104Z"
    },
    "papermill": {
     "duration": 0.349456,
     "end_time": "2022-09-07T12:00:24.081435",
     "exception": false,
     "start_time": "2022-09-07T12:00:23.731979",
     "status": "completed"
    },
    "tags": []
   },
   "outputs": [
    {
     "data": {
      "image/png": "[encoded data removed]",
      "text/plain": [
       "<Figure size 432x288 with 1 Axes>"
      ]
     },
     "metadata": {
      "needs_background": "light"
     },
     "output_type": "display_data"
    }
   ],
   "source": [
    "ax = monthly.plot(x=\"date\", y=\"proportion_deaths\", ylabel=\"Proportion deaths\")"
   ]
  },
  {
   "cell_type": "markdown",
   "id": "7047aefc",
   "metadata": {
    "papermill": {
     "duration": 0.007635,
     "end_time": "2022-09-07T12:00:24.097167",
     "exception": false,
     "start_time": "2022-09-07T12:00:24.089532",
     "status": "completed"
    },
    "tags": []
   },
   "source": [
    "## 6. The effect of handwashing highlighted\n",
    "<p>Starting from the summer of 1847 the proportion of deaths is drastically reduced and, yes, this was when Semmelweis made handwashing obligatory. </p>\n",
    "<p>The effect of handwashing is made even more clear if we highlight this in the graph.</p>"
   ]
  },
  {
   "cell_type": "code",
   "execution_count": 7,
   "id": "f97548d4",
   "metadata": {
    "execution": {
     "iopub.execute_input": "2022-09-07T12:00:24.113325Z",
     "iopub.status.busy": "2022-09-07T12:00:24.112864Z",
     "iopub.status.idle": "2022-09-07T12:00:24.482215Z",
     "shell.execute_reply": "2022-09-07T12:00:24.480820Z"
    },
    "papermill": {
     "duration": 0.381091,
     "end_time": "2022-09-07T12:00:24.485447",
     "exception": false,
     "start_time": "2022-09-07T12:00:24.104356",
     "status": "completed"
    },
    "tags": []
   },
   "outputs": [
    {
     "data": {
      "text/plain": [
       "<AxesSubplot:xlabel='date', ylabel='Proportion deaths'>"
      ]
     },
     "execution_count": 7,
     "metadata": {},
     "output_type": "execute_result"
    },
    {
     "data": {
      "image/png": "[encoded data removed]",
      "text/plain": [
       "<Figure size 432x288 with 1 Axes>"
      ]
     },
     "metadata": {
      "needs_background": "light"
     },
     "output_type": "display_data"
    }
   ],
   "source": [
    "# Date when handwashing was made mandatory\n",
    "handwashing_start = pd.to_datetime('1847-06-01')\n",
    "\n",
    "# Split monthly into before and after handwashing_start\n",
    "before_washing = monthly[monthly[\"date\"] < handwashing_start]\n",
    "after_washing = monthly[monthly[\"date\"] >= handwashing_start]\n",
    "\n",
    "\n",
    "# Plot monthly proportion of deaths before and after handwashing\n",
    "ax = before_washing.plot(x=\"date\", y=\"proportion_deaths\",\n",
    "                         label=\"Before handwashing\")\n",
    "after_washing.plot(x=\"date\", y=\"proportion_deaths\",\n",
    "                   label=\"After handwashing\", ax=ax, ylabel=\"Proportion deaths\")"
   ]
  },
  {
   "cell_type": "markdown",
   "id": "ad18a1b8",
   "metadata": {
    "papermill": {
     "duration": 0.00847,
     "end_time": "2022-09-07T12:00:24.502793",
     "exception": false,
     "start_time": "2022-09-07T12:00:24.494323",
     "status": "completed"
    },
    "tags": []
   },
   "source": [
    "## 7. More handwashing, fewer deaths?\n",
    "<p>Again, the graph shows that handwashing had a huge effect. How much did it reduce the monthly proportion of deaths on average?</p>"
   ]
  },
  {
   "cell_type": "code",
   "execution_count": 8,
   "id": "d6d858e6",
   "metadata": {
    "execution": {
     "iopub.execute_input": "2022-09-07T12:00:24.527916Z",
     "iopub.status.busy": "2022-09-07T12:00:24.526615Z",
     "iopub.status.idle": "2022-09-07T12:00:24.541447Z",
     "shell.execute_reply": "2022-09-07T12:00:24.540240Z"
    },
    "papermill": {
     "duration": 0.029193,
     "end_time": "2022-09-07T12:00:24.543946",
     "exception": false,
     "start_time": "2022-09-07T12:00:24.514753",
     "status": "completed"
    },
    "tags": []
   },
   "outputs": [
    {
     "data": {
      "text/plain": [
       "-0.08395660751183336"
      ]
     },
     "execution_count": 8,
     "metadata": {},
     "output_type": "execute_result"
    }
   ],
   "source": [
    "# Difference in mean monthly proportion of deaths due to handwashing\n",
    "before_proportion = before_washing[\"proportion_deaths\"]\n",
    "after_proportion = after_washing[\"proportion_deaths\"]\n",
    "mean_diff = after_proportion.mean() - before_proportion.mean()\n",
    "mean_diff"
   ]
  },
  {
   "cell_type": "markdown",
   "id": "6a7d4c49",
   "metadata": {
    "papermill": {
     "duration": 0.010845,
     "end_time": "2022-09-07T12:00:24.564689",
     "exception": false,
     "start_time": "2022-09-07T12:00:24.553844",
     "status": "completed"
    },
    "tags": []
   },
   "source": [
    "## 8. A Bootstrap analysis of Semmelweis handwashing data\n",
    "<p>It reduced the proportion of deaths by around 8 percentage points! From 10% on average to just 2% (which is still a high number by modern standards). </p>\n",
    "<p>To get a feeling for the uncertainty around how much handwashing reduces mortalities we could look at a confidence interval (here calculated using the bootstrap method).</p>"
   ]
  },
  {
   "cell_type": "code",
   "execution_count": 9,
   "id": "4cd4abe0",
   "metadata": {
    "execution": {
     "iopub.execute_input": "2022-09-07T12:00:24.583195Z",
     "iopub.status.busy": "2022-09-07T12:00:24.582252Z",
     "iopub.status.idle": "2022-09-07T12:00:25.735142Z",
     "shell.execute_reply": "2022-09-07T12:00:25.733572Z"
    },
    "papermill": {
     "duration": 1.165438,
     "end_time": "2022-09-07T12:00:25.738479",
     "exception": false,
     "start_time": "2022-09-07T12:00:24.573041",
     "status": "completed"
    },
    "tags": []
   },
   "outputs": [
    {
     "name": "stdout",
     "output_type": "stream",
     "text": [
      "0.025   -0.101609\n",
      "0.975   -0.066669\n",
      "dtype: float64\n"
     ]
    }
   ],
   "source": [
    "# A bootstrap analysis of the reduction of deaths due to handwashing\n",
    "boot_mean_diff = []\n",
    "for i in range(3000):\n",
    "    boot_before = before_proportion.sample(frac=1, replace=True)\n",
    "    boot_after = after_proportion.sample(frac=1, replace=True)\n",
    "    boot_mean_diff.append( boot_after.mean() - boot_before.mean() )\n",
    "\n",
    "# Calculating a 95% confidence interval from boot_mean_diff \n",
    "confidence_interval = pd.Series(boot_mean_diff).quantile([0.025, 0.975])\n",
    "print(confidence_interval)\n"
   ]
  },
  {
   "cell_type": "markdown",
   "id": "ba89f14a",
   "metadata": {
    "papermill": {
     "duration": 0.007268,
     "end_time": "2022-09-07T12:00:25.754001",
     "exception": false,
     "start_time": "2022-09-07T12:00:25.746733",
     "status": "completed"
    },
    "tags": []
   },
   "source": [
    "## 9. # Another way to Calculating a 95% confidence interval from boot_mean_diff\n"
   ]
  },
  {
   "cell_type": "code",
   "execution_count": 10,
   "id": "382c2bb1",
   "metadata": {
    "execution": {
     "iopub.execute_input": "2022-09-07T12:00:25.770681Z",
     "iopub.status.busy": "2022-09-07T12:00:25.770258Z",
     "iopub.status.idle": "2022-09-07T12:00:25.779612Z",
     "shell.execute_reply": "2022-09-07T12:00:25.778444Z"
    },
    "papermill": {
     "duration": 0.020555,
     "end_time": "2022-09-07T12:00:25.782005",
     "exception": false,
     "start_time": "2022-09-07T12:00:25.761450",
     "status": "completed"
    },
    "tags": []
   },
   "outputs": [
    {
     "data": {
      "text/plain": [
       "array([[-0.10126544, -0.06654562]])"
      ]
     },
     "execution_count": 10,
     "metadata": {},
     "output_type": "execute_result"
    }
   ],
   "source": [
    "from scipy.stats import norm\n",
    "\n",
    "confidence_interval=norm.ppf([[0.025, 0.975]],loc=np.mean(boot_mean_diff),scale=np.std(boot_mean_diff))\n",
    "confidence_interval"
   ]
  },
  {
   "cell_type": "markdown",
   "id": "de90c872",
   "metadata": {
    "papermill": {
     "duration": 0.007639,
     "end_time": "2022-09-07T12:00:25.797438",
     "exception": false,
     "start_time": "2022-09-07T12:00:25.789799",
     "status": "completed"
    },
    "tags": []
   },
   "source": [
    "## 9. The fate of Dr. Semmelweis\n",
    "<p>So handwashing reduced the proportion of deaths by between 6.7 and 10 percentage points, according to a 95% confidence interval. All in all, it would seem that Semmelweis had solid evidence that handwashing was a simple but highly effective procedure that could save many lives.</p>\n",
    "<p>The tragedy is that, despite the evidence, Semmelweis' theory — that childbed fever was caused by some \"substance\" (what we today know as <em>bacteria</em>) from autopsy room corpses — was ridiculed by contemporary scientists. The medical community largely rejected his discovery and in 1849 he was forced to leave the Vienna General Hospital for good.</p>\n",
    "<p>One reason for this was that statistics and statistical arguments were uncommon in medical science in the 1800s. Semmelweis only published his data as long tables of raw data, but he didn't show any graphs nor confidence intervals. If he would have had access to the analysis we've just put together he might have been more successful in getting the Viennese doctors to wash their hands.</p>"
   ]
  },
  {
   "cell_type": "code",
   "execution_count": null,
   "id": "516c48c7",
   "metadata": {
    "papermill": {
     "duration": 0.007195,
     "end_time": "2022-09-07T12:00:25.812433",
     "exception": false,
     "start_time": "2022-09-07T12:00:25.805238",
     "status": "completed"
    },
    "tags": []
   },
   "outputs": [],
   "source": []
  }
 ],
 "metadata": {
  "kernelspec": {
   "display_name": "Python 3",
   "language": "python",
   "name": "python3"
  },
  "language_info": {
   "codemirror_mode": {
    "name": "ipython",
    "version": 3
   },
   "file_extension": ".py",
   "mimetype": "text/x-python",
   "name": "python",
   "nbconvert_exporter": "python",
   "pygments_lexer": "ipython3",
   "version": "3.7.12"
  },
  "papermill": {
   "default_parameters": {},
   "duration": 13.904342,
   "end_time": "2022-09-07T12:00:26.542510",
   "environment_variables": {},
   "exception": null,
   "input_path": "__notebook__.ipynb",
   "output_path": "__notebook__.ipynb",
   "parameters": {},
   "start_time": "2022-09-07T12:00:12.638168",
   "version": "2.3.4"
  }
 },
 "nbformat": 4,
 "nbformat_minor": 5
}
